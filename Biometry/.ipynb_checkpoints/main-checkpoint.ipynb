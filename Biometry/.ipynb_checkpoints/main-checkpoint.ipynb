{
 "cells": [
  {
   "cell_type": "code",
   "execution_count": 4,
   "id": "b8bc8581-d55b-400f-9408-6343c270e80b",
   "metadata": {},
   "outputs": [],
   "source": [
    "import cv2\n",
    "import numpy as np\n",
    "import matplotlib.pyplot as plt"
   ]
  },
  {
   "cell_type": "code",
   "execution_count": 5,
   "id": "51988912-1008-49f5-b7a0-094f2793dd53",
   "metadata": {},
   "outputs": [],
   "source": [
    "image = cv2.imread(\"sfinge.bmp\") \n",
    "gray = cv2.cvtColor(image, cv2.COLOR_BGR2GRAY) "
   ]
  },
  {
   "cell_type": "code",
   "execution_count": 6,
   "id": "e6e22be3-0146-4e20-aa48-f5c936624e9b",
   "metadata": {},
   "outputs": [
    {
     "ename": "error",
     "evalue": "OpenCV(4.11.0) :-1: error: (-5:Bad argument) in function 'erode'\n> Overload resolution failed:\n>  - src is not a numerical tuple\n>  - Expected Ptr<cv::UMat> for argument 'src'\n",
     "output_type": "error",
     "traceback": [
      "\u001b[31m---------------------------------------------------------------------------\u001b[39m",
      "\u001b[31merror\u001b[39m                                     Traceback (most recent call last)",
      "\u001b[36mCell\u001b[39m\u001b[36m \u001b[39m\u001b[32mIn[6]\u001b[39m\u001b[32m, line 7\u001b[39m\n\u001b[32m      4\u001b[39m kernel = np.ones((\u001b[32m3\u001b[39m, \u001b[32m3\u001b[39m), np.uint8)\n\u001b[32m      6\u001b[39m \u001b[38;5;66;03m# Erosion (Reduces noise)\u001b[39;00m\n\u001b[32m----> \u001b[39m\u001b[32m7\u001b[39m eroded = \u001b[43mcv2\u001b[49m\u001b[43m.\u001b[49m\u001b[43merode\u001b[49m\u001b[43m(\u001b[49m\u001b[43mbinary\u001b[49m\u001b[43m,\u001b[49m\u001b[43m \u001b[49m\u001b[43mkernel\u001b[49m\u001b[43m,\u001b[49m\u001b[43m \u001b[49m\u001b[43miterations\u001b[49m\u001b[43m=\u001b[49m\u001b[32;43m1\u001b[39;49m\u001b[43m)\u001b[49m\n\u001b[32m      9\u001b[39m \u001b[38;5;66;03m# Expansion (Refines lines)\u001b[39;00m\n\u001b[32m     10\u001b[39m dilated = cv2.dilate(eroded, kernel, iterations=\u001b[32m1\u001b[39m)\n",
      "\u001b[31merror\u001b[39m: OpenCV(4.11.0) :-1: error: (-5:Bad argument) in function 'erode'\n> Overload resolution failed:\n>  - src is not a numerical tuple\n>  - Expected Ptr<cv::UMat> for argument 'src'\n"
     ]
    }
   ],
   "source": [
    "_, binary = cv2.threshold(gray, 0, 255, cv2.THRESH_BINARY + cv2.THRESH_OTSU)\n",
    "\n",
    "# Structural Element for Morphological Operations\n",
    "kernel = np.ones((3, 3), np.uint8)\n",
    "\n",
    "# Erosion (Reduces noise)\n",
    "eroded = cv2.erode(binary, kernel, iterations=1)\n",
    "\n",
    "# Expansion (Refines lines)\n",
    "dilated = cv2.dilate(eroded, kernel, iterations=1)\n",
    "\n",
    "# Clears isolated noises\n",
    "opened = cv2.morphologyEx(binary, cv2.MORPH_OPEN, kernel)\n",
    "\n",
    "# Fills in gaps\n",
    "closed = cv2.morphologyEx(opened, cv2.MORPH_CLOSE, kernel)\n",
    "\n",
    "# Noise Reduction - Gaussian Blur\n",
    "denoised = cv2.GaussianBlur(closed, (3, 3), 0)\n",
    "\n",
    "plt.figure(figsize=(12, 6))\n",
    "\n",
    "plt.subplot(1, 3, 1)\n",
    "plt.imshow(gray, cmap='gray')\n",
    "plt.title(\"Original Gray Image\")\n",
    "plt.axis('off')\n",
    "\n",
    "plt.subplot(1, 3, 2)\n",
    "plt.imshow(binary, cmap='gray')\n",
    "plt.title(\"Binary (Otsu Thresholding)\")\n",
    "plt.axis('off')\n",
    "\n",
    "plt.subplot(1, 3, 3)\n",
    "plt.imshow(denoised, cmap='gray')\n",
    "plt.title(\"Processed Fingerprint\")\n",
    "plt.axis('off')\n",
    "\n",
    "plt.show()"
   ]
  },
  {
   "cell_type": "code",
   "execution_count": null,
   "id": "43202f7c-d60d-4772-9c67-921b6666e7b9",
   "metadata": {},
   "outputs": [],
   "source": [
    "image = cv2.imread(\"sfinge.bmp\", cv2.IMREAD_GRAYSCALE)  # Gri tonlamaya çevrildi\n",
    "_, binary = cv2.threshold(image, 0, 255, cv2.THRESH_BINARY + cv2.THRESH_OTSU)\n",
    "\n",
    "\n",
    "def skeletonize(image):\n",
    "    skeleton = np.zeros_like(image)  # Boş bir görüntü oluştur\n",
    "    temp = np.zeros_like(image)\n",
    "    kernel = cv2.getStructuringElement(cv2.MORPH_CROSS, (3,3))\n",
    "    \n",
    "    while True:\n",
    "        eroded = cv2.erode(image, kernel)  # Erozyon uygula\n",
    "        opened = cv2.dilate(eroded, kernel)  # Genişlet (Açma işlemi)\n",
    "        temp = cv2.subtract(image, opened)  # Orijinalden çıkart\n",
    "        skeleton = cv2.bitwise_or(skeleton, temp)  # İskelete ekle\n",
    "        image = eroded.copy()  # Güncelle\n",
    "\n",
    "        if cv2.countNonZero(image) == 0:  # Tüm piksel işlemleri bitince çık\n",
    "            break\n",
    "    \n",
    "    return skeleton\n"
   ]
  }
 ],
 "metadata": {
  "kernelspec": {
   "display_name": "sfinge",
   "language": "python",
   "name": "sfinge_env"
  },
  "language_info": {
   "codemirror_mode": {
    "name": "ipython",
    "version": 3
   },
   "file_extension": ".py",
   "mimetype": "text/x-python",
   "name": "python",
   "nbconvert_exporter": "python",
   "pygments_lexer": "ipython3",
   "version": "3.12.4"
  }
 },
 "nbformat": 4,
 "nbformat_minor": 5
}
