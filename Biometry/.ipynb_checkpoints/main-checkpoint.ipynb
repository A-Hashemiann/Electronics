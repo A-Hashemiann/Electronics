{
 "cells": [
  {
   "cell_type": "code",
   "execution_count": 1,
   "id": "b8bc8581-d55b-400f-9408-6343c270e80b",
   "metadata": {},
   "outputs": [],
   "source": [
    "import cv2\n",
    "import numpy as np\n",
    "import matplotlib.pyplot as plt"
   ]
  },
  {
   "cell_type": "code",
   "execution_count": 2,
   "id": "51988912-1008-49f5-b7a0-094f2793dd53",
   "metadata": {},
   "outputs": [],
   "source": [
    "image = cv2.imread(\"sfinge.bmp\") \n",
    "gray = cv2.cvtColor(image, cv2.COLOR_BGR2GRAY) "
   ]
  },
  {
   "cell_type": "code",
   "execution_count": null,
   "id": "e6e22be3-0146-4e20-aa48-f5c936624e9b",
   "metadata": {},
   "outputs": [],
   "source": [
    "_, binary = cv2.threshold(gray, 0, 255, cv2.THRESH_BINARY + cv2.THRESH_OTSU)\n",
    "\n",
    "# Structural Element for Morphological Operations\n",
    "kernel = np.ones((3, 3), np.uint8)\n",
    "\n",
    "# Erosion (Reduces noise)\n",
    "eroded = cv2.erode(binary, kernel, iterations=1)\n",
    "\n",
    "# Expansion (Refines lines)\n",
    "dilated = cv2.dilate(eroded, kernel, iterations=1)\n",
    "\n",
    "# Clears isolated noises\n",
    "opened = cv2.morphologyEx(binary, cv2.MORPH_OPEN, kernel)\n",
    "\n",
    "# Fills in gaps\n",
    "closed = cv2.morphologyEx(opened, cv2.MORPH_CLOSE, kernel)\n",
    "\n",
    "# Noise Reduction - Gaussian Blur\n",
    "denoised = cv2.GaussianBlur(closed, (3, 3), 0)\n",
    "\n",
    "plt.figure(figsize=(12, 6))\n",
    "\n",
    "plt.subplot(1, 3, 1)\n",
    "plt.imshow(gray, cmap='gray')\n",
    "plt.title(\"Original Gray Image\")\n",
    "plt.axis('off')\n",
    "\n",
    "plt.subplot(1, 3, 2)\n",
    "plt.imshow(binary, cmap='gray')\n",
    "plt.title(\"Binary (Otsu Thresholding)\")\n",
    "plt.axis('off')\n",
    "\n",
    "plt.subplot(1, 3, 3)\n",
    "plt.imshow(denoised, cmap='gray')\n",
    "plt.title(\"Processed Fingerprint\")\n",
    "plt.axis('off')\n",
    "\n",
    "plt.show()"
   ]
  }
 ],
 "metadata": {
  "kernelspec": {
   "display_name": "sfinge",
   "language": "python",
   "name": "sfinge_env"
  },
  "language_info": {
   "codemirror_mode": {
    "name": "ipython",
    "version": 3
   },
   "file_extension": ".py",
   "mimetype": "text/x-python",
   "name": "python",
   "nbconvert_exporter": "python",
   "pygments_lexer": "ipython3",
   "version": "3.12.4"
  }
 },
 "nbformat": 4,
 "nbformat_minor": 5
}
